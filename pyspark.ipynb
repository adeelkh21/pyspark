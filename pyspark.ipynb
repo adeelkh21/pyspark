{
  "nbformat": 4,
  "nbformat_minor": 0,
  "metadata": {
    "colab": {
      "provenance": []
    },
    "kernelspec": {
      "name": "python3",
      "display_name": "Python 3"
    },
    "language_info": {
      "name": "python"
    }
  },
  "cells": [
    {
      "cell_type": "code",
      "execution_count": 38,
      "metadata": {
        "id": "CGGNRXjY7N5_"
      },
      "outputs": [],
      "source": [
        "!apt-get install openjdk-11-jdk-headless -qq > /dev/null\n",
        "\n",
        "# Use a stable Spark mirror link\n",
        "!wget -q https://archive.apache.org/dist/spark/spark-3.5.1/spark-3.5.1-bin-hadoop3.tgz -O spark.tgz\n",
        "\n",
        "# Extract the downloaded tar file\n",
        "!tar xf spark.tgz\n",
        "\n",
        "# Install findspark\n",
        "!pip install -q findspark\n",
        "\n"
      ]
    },
    {
      "cell_type": "code",
      "source": [
        "import os\n",
        "\n",
        "# Set environment paths\n",
        "os.environ[\"JAVA_HOME\"] = \"/usr/lib/jvm/java-11-openjdk-amd64\"\n",
        "os.environ[\"SPARK_HOME\"] = \"/content/spark-3.5.1-bin-hadoop3\"\n",
        "\n",
        "# Verify\n",
        "print(\"Environment paths set successfully!\")"
      ],
      "metadata": {
        "colab": {
          "base_uri": "https://localhost:8080/"
        },
        "id": "0gEdY00m9-bW",
        "outputId": "6d8a297a-4b9c-46a8-ffd1-9656ee300a85"
      },
      "execution_count": 39,
      "outputs": [
        {
          "output_type": "stream",
          "name": "stdout",
          "text": [
            "Environment paths set successfully!\n"
          ]
        }
      ]
    },
    {
      "cell_type": "code",
      "source": [
        "import findspark\n",
        "findspark.init()\n",
        "\n",
        "from pyspark.sql import SparkSession\n",
        "\n",
        "# Create Spark session\n",
        "spark = SparkSession.builder \\\n",
        "    .master(\"local[*]\") \\\n",
        "    .appName(\"Practice_PySpark\") \\\n",
        "    .getOrCreate()\n",
        "\n",
        "sc = spark.sparkContext\n",
        "print(\"Spark session created successfully!\")\n"
      ],
      "metadata": {
        "colab": {
          "base_uri": "https://localhost:8080/"
        },
        "id": "LkqBqUUg7RCQ",
        "outputId": "ca73de88-e7e0-4eef-a074-00263d68c301"
      },
      "execution_count": 40,
      "outputs": [
        {
          "output_type": "stream",
          "name": "stdout",
          "text": [
            "Spark session created successfully!\n"
          ]
        }
      ]
    },
    {
      "cell_type": "code",
      "source": [
        "data = [\n",
        "    (\"mardan\", 22),(\"1\",20 ),\n",
        "    (\"charsadda\", 28),(\"2\",24 ),\n",
        "    (\"chitral\", 18),(\"3\", 30),\n",
        "    (\"isb\", 30),(\"4\", 27),\n",
        "    (\"peshawar\", 35),(\"5\", 28),\n",
        "    (\"karachi\", 20),(\"6\",30 ),\n",
        "    (\"lahore\", 33),(\"7\", 33),\n",
        "    (\"gilgit \", 25),(\"8\", 19),\n",
        "    (\"multan\", 29),(\"9\", 15),\n",
        "    (\"karimabad\", 24),(\"10\",21 ),\n",
        "    (\"tirah\", 23),(\"11\", 19),\n",
        "    (\"mohmand\", 15),(\"12\", 15),\n",
        "    (\"RYK\", 40),(\"13\",21 )]"
      ],
      "metadata": {
        "id": "H6Wrl0HK7Y_D"
      },
      "execution_count": 41,
      "outputs": []
    },
    {
      "cell_type": "code",
      "source": [
        "rdd_cel = sc.parallelize(data)"
      ],
      "metadata": {
        "id": "-6i0RdzQ-ypy"
      },
      "execution_count": 42,
      "outputs": []
    },
    {
      "cell_type": "code",
      "source": [
        "rdd_cel.take(5)"
      ],
      "metadata": {
        "colab": {
          "base_uri": "https://localhost:8080/"
        },
        "id": "aa4Z0hEg-5ob",
        "outputId": "60d4cb68-37e8-4bc5-e904-b7d50de285a0"
      },
      "execution_count": 43,
      "outputs": [
        {
          "output_type": "execute_result",
          "data": {
            "text/plain": [
              "[('mardan', 22), ('1', 20), ('charsadda', 28), ('2', 24), ('chitral', 18)]"
            ]
          },
          "metadata": {},
          "execution_count": 43
        }
      ]
    },
    {
      "cell_type": "code",
      "source": [
        "rdd_fah = rdd_cel.mapValues(lambda c: c*9/5 + 32)"
      ],
      "metadata": {
        "id": "qHiTE_Qi_buG"
      },
      "execution_count": 44,
      "outputs": []
    },
    {
      "cell_type": "code",
      "source": [
        "rdd_fah.take(5)"
      ],
      "metadata": {
        "colab": {
          "base_uri": "https://localhost:8080/"
        },
        "id": "U3NLZttV_tvm",
        "outputId": "ac7cb1c0-d66c-4137-9c13-7f4201e6f70e"
      },
      "execution_count": 45,
      "outputs": [
        {
          "output_type": "execute_result",
          "data": {
            "text/plain": [
              "[('mardan', 71.6),\n",
              " ('1', 68.0),\n",
              " ('charsadda', 82.4),\n",
              " ('2', 75.2),\n",
              " ('chitral', 64.4)]"
            ]
          },
          "metadata": {},
          "execution_count": 45
        }
      ]
    },
    {
      "cell_type": "code",
      "source": [
        "print(rdd_cel.keys().distinct().collect())\n",
        "print(rdd_fah.keys().distinct().collect())"
      ],
      "metadata": {
        "colab": {
          "base_uri": "https://localhost:8080/"
        },
        "id": "C7IBq06m_wvF",
        "outputId": "71d3fd4f-ddf3-4ef3-af53-26b548fe1b54"
      },
      "execution_count": 46,
      "outputs": [
        {
          "output_type": "stream",
          "name": "stdout",
          "text": [
            "['3', '4', 'peshawar', '5', 'karachi', '6', 'lahore', '7', 'gilgit ', '10', 'tirah', 'mohmand', 'RYK', '13', 'mardan', '1', 'charsadda', '2', 'chitral', 'isb', '8', 'multan', '9', 'karimabad', '11', '12']\n",
            "['3', '4', 'peshawar', '5', 'karachi', '6', 'lahore', '7', 'gilgit ', '10', 'tirah', 'mohmand', 'RYK', '13', 'mardan', '1', 'charsadda', '2', 'chitral', 'isb', '8', 'multan', '9', 'karimabad', '11', '12']\n"
          ]
        }
      ]
    },
    {
      "cell_type": "code",
      "source": [
        "data2 = list(range(1,40))"
      ],
      "metadata": {
        "id": "6WrQ-a5s_3mK"
      },
      "execution_count": 47,
      "outputs": []
    },
    {
      "cell_type": "code",
      "source": [
        "rdd_partitioned = sc.parallelize(data2,3)"
      ],
      "metadata": {
        "id": "uJlTXQLlAjeL"
      },
      "execution_count": 48,
      "outputs": []
    },
    {
      "cell_type": "code",
      "source": [
        "rdd_partitioned.getNumPartitions()"
      ],
      "metadata": {
        "colab": {
          "base_uri": "https://localhost:8080/"
        },
        "id": "rocm962cAqf6",
        "outputId": "74067c0e-65d3-43dc-cb51-f47ea8964620"
      },
      "execution_count": 49,
      "outputs": [
        {
          "output_type": "execute_result",
          "data": {
            "text/plain": [
              "3"
            ]
          },
          "metadata": {},
          "execution_count": 49
        }
      ]
    },
    {
      "cell_type": "code",
      "source": [
        "rdd_partitioned.glom().collect()"
      ],
      "metadata": {
        "colab": {
          "base_uri": "https://localhost:8080/"
        },
        "id": "KUqPdsBDAnA7",
        "outputId": "b4d26ae5-0c61-4317-c246-1565135bc29a"
      },
      "execution_count": 50,
      "outputs": [
        {
          "output_type": "execute_result",
          "data": {
            "text/plain": [
              "[[1, 2, 3, 4, 5, 6, 7, 8, 9, 10, 11, 12, 13],\n",
              " [14, 15, 16, 17, 18, 19, 20, 21, 22, 23, 24, 25, 26],\n",
              " [27, 28, 29, 30, 31, 32, 33, 34, 35, 36, 37, 38, 39]]"
            ]
          },
          "metadata": {},
          "execution_count": 50
        }
      ]
    },
    {
      "cell_type": "code",
      "source": [
        "sorted_ids = rdd_partitioned.sortBy(lambda x: x).collect()"
      ],
      "metadata": {
        "id": "OtOFMEBgBIsv"
      },
      "execution_count": 51,
      "outputs": []
    },
    {
      "cell_type": "code",
      "source": [],
      "metadata": {
        "id": "90_0q76JBaoN"
      },
      "execution_count": 51,
      "outputs": []
    }
  ]
}